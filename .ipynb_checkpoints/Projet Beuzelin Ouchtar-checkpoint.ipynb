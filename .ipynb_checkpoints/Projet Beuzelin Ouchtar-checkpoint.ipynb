{
 "cells": [
  {
   "cell_type": "markdown",
   "metadata": {},
   "source": [
    "# Projet numérique"
   ]
  },
  {
   "cell_type": "markdown",
   "metadata": {},
   "source": [
    "### Question 1"
   ]
  },
  {
   "cell_type": "markdown",
   "metadata": {},
   "source": [
    "# Interprétation physique.\n",
    "\n",
    "$x_1 = Population de proies$\n",
    "$x_2 = Population de prédateurs$\n",
    "$\\alpha = Taux de reproduction des proies$\n",
    "$\\prod{\\beta}{x_2} = Taux de destruction des proies en fonction du nombre de prédateurs$\n",
    "$\\beta = Taux de destruction des proies par prédateur$\n",
    "$\\gamma = Taux de mortalité naturelle des prédateurs$\n",
    "$\\prod{\\delta}{x_1} = Taux de reproduction des prédateurs en fonction du nombre de proies disponibles$\n",
    "$\\delta = Taux de reproduction des prédateurs par proie disponible$\n",
    "\n",
    "# Recherche des points d'équilibre.\n",
    "\n",
    "On a $f:\\prod{\\mathbb(R)_+}{\\mathbb(R)_+}\\longrightarrow\\prod{\\mathbb(R)}{\\mathbb(R)}$\n",
    "     $f(x = (x_1,x_2)) = (x_1(\\alpha-\\beta x_2), -x_2(\\gamma-\\delta x_1))"
   ]
  },
  {
   "cell_type": "markdown",
   "metadata": {},
   "source": []
  }
 ],
 "metadata": {
  "kernelspec": {
   "display_name": "Python 3",
   "language": "python",
   "name": "python3"
  },
  "language_info": {
   "codemirror_mode": {
    "name": "ipython",
    "version": 3
   },
   "file_extension": ".py",
   "mimetype": "text/x-python",
   "name": "python",
   "nbconvert_exporter": "python",
   "pygments_lexer": "ipython3",
   "version": "3.8.3"
  }
 },
 "nbformat": 4,
 "nbformat_minor": 4
}
