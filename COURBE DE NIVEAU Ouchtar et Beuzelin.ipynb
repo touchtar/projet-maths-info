{
 "cells": [
  {
   "cell_type": "markdown",
   "metadata": {},
   "source": [
    "# COURBES DE NIVEAU"
   ]
  },
  {
   "cell_type": "markdown",
   "metadata": {},
   "source": [
    "##### BEUZELIN Tristan et OUCHTAR Tasnime"
   ]
  },
  {
   "cell_type": "markdown",
   "metadata": {},
   "source": [
    "#### Question 1"
   ]
  },
  {
   "cell_type": "markdown",
   "metadata": {},
   "source": [
    "On introduit l'ensemble $E=\\left\\{x \\in \\mathbb{R} \\; / f(x_1, x_2) = c\\right\\}$. Montrons que E est compact. \n",
    "\n",
    "\n",
    "Commençons par montrer que E est fermé:\n",
    "\n",
    "Soit une suite $(x_n)_{n\\in\\mathbb{N}}$ tel que $x_n \\xrightarrow[n \\rightarrow \\infty]{} c$ et $\\forall n \\; x_n \\in E$. Par définition, $\\forall n \\; f(x_n) = c$. Or f est continue donc $\\underset{n \\rightarrow \\infty}{lim} f(x_n) = c = f(x)$ donc $x \\in E$.\n",
    "\n",
    "\n",
    "Montrons par l'absurde que E est borné:\n",
    "\n",
    "Supposons que E ne soit pas borné. Alors, on sait que pour tout M appartenant à $\\mathbb{R}$, il existe $(x_1, x_2) \\in E$ tel que $||(x_1, x_2)|| \\geq M$ et $f(x_1, x_2) = c$. Or, on sait qu'il existe N appartenant à $\\mathbb{R}$ tel que pour tout $(x_1, x_2)$ vérifiant $||(x_1, x_2)|| \\geq N$, $f(x_1, x_2)>c$ car $\\underset{||(x_1, x_2)|| \\rightarrow + \\infty}{lim} f(x_1, x_2) = + \\infty$. En prenant M égale à N, on arrive à une contradiction."
   ]
  },
  {
   "cell_type": "markdown",
   "metadata": {},
   "source": [
    "#### Question 2"
   ]
  },
  {
   "cell_type": "markdown",
   "metadata": {},
   "source": [
    "On peut interpréter \n",
    "$ p(x_1, x_2) = \\frac{\\partial_2 f(x_0)}{\\|\\nabla f(x_0)\\|} (x_1 - x_{10}) -\n",
    "\\frac{\\partial_1 f(x_0)}{\\|\\nabla f(x_0)\\|} (x_2 - x_{20})\n",
    "$ comme le déterminant de la matrice \n",
    "$\\begin{pmatrix} \n",
    "x_1 - x_{10} & \\frac{\\partial_1 f(x_0)}{\\|\\nabla f(x_0)\\|} \\\\\n",
    "x_2 - x_{20} & \\frac{\\partial_2 f(x_0)}{\\|\\nabla f(x_0)\\|}\n",
    "\\end{pmatrix}$.\n",
    "\n",
    "Ainsi, il s'agit géométriquement de l'aire du parrallélogramme engendré par le déplacement du point et le gradient normalisé de f au point initial.\n"
   ]
  },
  {
   "cell_type": "markdown",
   "metadata": {},
   "source": [
    "#### Question 3"
   ]
  },
  {
   "cell_type": "markdown",
   "metadata": {},
   "source": [
    "On introduit la fonction $g$ qui va de $\\mathbb{R}^2 \\times \\mathbb{R}$ dans $\\mathbb{R}^2$ et qui à $((x_1,x_2),t)$ associe $(f(x_1,x_2)-c,p(x_1,x_2)-t)$. \n",
    "On définit $W$ un ouvert de $\\mathbb{R}^2 \\times \\mathbb{R}$ tel que $(x_0,0) \\in W$. On a bien $g((x_{10}, x_{20}),0) = (0,0)$. \n",
    "\n",
    "La fonction $g$ est continûment différentiable sur $W$ car les fonctions $f$, $p$, somme et soustraction sont continûment différentiables. \n",
    "\n",
    "Vérifions que $\\partial_x g(x,t)$ est inversible. Dans un premier temps, calculons la matrice jacobienne de g : \n",
    "$J_g = \\begin{pmatrix}\n",
    "        \\partial_1f & \\partial_2f & 0\\\\\n",
    "        \\frac{\\partial_2 f}{\\|\\nabla f\\|} & -\\frac{\\partial_1 f}{\\|\\nabla f\\|} & -1 \n",
    "        \\end{pmatrix}$.\n",
    "On a donc $\\partial_xg = \\begin{pmatrix}\n",
    "        \\partial_1f & \\partial_2f\\\\\n",
    "        \\frac{\\partial_2 f}{\\|\\nabla f\\|} & -\\frac{\\partial_1 f}{\\|\\nabla f\\|}\n",
    "        \\end{pmatrix}$. \n",
    "On a alors $det(\\partial_x g) = \\frac{{\\partial_1 f}^2 + {\\partial_2 f}^2}{\\|\\nabla f\\|}$ or en travaillant au voisinage de $x_0$, on sait que $\\nabla f$ est non nul donc sa norme est non nulle ce qui donne finalement que $det(\\partial_xg(x_0)) \\ne 0$."
   ]
  },
  {
   "cell_type": "markdown",
   "metadata": {},
   "source": [
    "On peut à présent appliquer le théorème des fonctions implicites: il existe un voisinage ouvert de $x_0$ et un voisinage $]-\\epsilon \\; ; \\epsilon[$ de 0 tels qu'il existe une unique fonction $\\gamma :\\left]-\\varepsilon,\\varepsilon \\right[ \\to \\mathbb{R}^2$ continûment différentiable telle que $g(x,t) = 0 \\Leftrightarrow f(x_1,x_2) = c$ et $t = p(x_1, x_2) \\Leftrightarrow (x_1, x_2) = \\gamma(t)$ avec $t = p(x_1, x_2)$ "
   ]
  },
  {
   "cell_type": "markdown",
   "metadata": {},
   "source": [
    "#### Question 4 "
   ]
  },
  {
   "cell_type": "markdown",
   "metadata": {},
   "source": [
    "Commencons par montrer que le vecteur $\\gamma'(t)$ est non nul. A l'aide du deuxième volet du théorème des fonctions implicites, on a $d\\gamma(t) = -[\\partial_x g (\\gamma(t),t)]^{-1} \\bullet \\partial_t g(\\gamma(t),t)$\n",
    "\n",
    "$d\\gamma(t) = -\\frac{1}{\\|\\nabla f\\|} \\begin{pmatrix}\n",
    "-\\frac{\\partial_1 f(\\gamma(t), t)}{\\|\\nabla f\\|} & -\\partial_2 f(\\gamma(t), t) \\\\\n",
    "-\\frac{\\partial_2 f(\\gamma(t), t)}{\\|\\nabla f\\|} & \\partial_1 f(\\gamma(t), t)\n",
    "\\end{pmatrix} \n",
    "\\bullet\n",
    "\\begin{pmatrix}\n",
    "0 \\\\\n",
    "-1\n",
    "\\end{pmatrix}\n",
    "=\n",
    "-\\frac{1}{\\|\\nabla f\\|} \\begin{pmatrix}\n",
    "\\partial_2 f(\\gamma(t), t) \\\\\n",
    "-\\partial_1 f(\\gamma(t), t)\n",
    "\\end{pmatrix}$"
   ]
  },
  {
   "cell_type": "markdown",
   "metadata": {},
   "source": [
    "Comme on sait que $\\gamma$ est différentiable en t, $\\gamma$ est dérivable en t et $\\forall h \\in \\mathbb(R)$ $d\\gamma(t) \\bullet h = \\gamma'(t) h$.\n",
    "\n",
    "Or $d\\gamma(t) \\ne 0$ car $\\nabla f \\ne 0$ donc $\\gamma'(t) \\ne 0$."
   ]
  },
  {
   "cell_type": "markdown",
   "metadata": {},
   "source": [
    "De plus, $\\nabla f \\bullet d\\gamma(t) = -\\frac{1}{\\|\\nabla f\\|}\n",
    "\\begin{pmatrix}\n",
    "\\partial_1 f \\\\\n",
    "\\partial_2 f\n",
    "\\end{pmatrix}\n",
    "\\bullet\n",
    "\\begin{pmatrix}\n",
    "\\partial_2 f \\\\\n",
    "-\\partial_1 f\n",
    "\\end{pmatrix}\n",
    "=\n",
    "-\\frac{1}{\\|\\nabla f\\|} (\\partial_1 f \\; \\partial_2 f - \\partial_2 f \\; \\partial_1 f) = 0$\n",
    "donc on a bien $\\gamma'(t)$ orthogonal à $\\nabla f(\\gamma(t))$."
   ]
  },
  {
   "cell_type": "markdown",
   "metadata": {},
   "source": [
    "#### Question 5"
   ]
  },
  {
   "cell_type": "markdown",
   "metadata": {},
   "source": [
    "La fonction Newton demande une précision uniquement graphique: il faut que l'erreur soit inférieur à la taille d'un pixel sur l'échelle verticale. Ainsi, en choisissant $\\epsilon = 0,02$, on obtient ce résultat."
   ]
  },
  {
   "cell_type": "markdown",
   "metadata": {},
   "source": [
    "#### Tâche 1"
   ]
  },
  {
   "cell_type": "code",
   "execution_count": null,
   "metadata": {},
   "outputs": [],
   "source": [
    "import autograd\n",
    "import autograd.numpy as np\n",
    "import pandas as pd\n",
    "import matplotlib as mpl\n",
    "import matplotlib.pyplot as plt\n",
    "plt.rcParams['figure.figsize'] = [10, 10]\n",
    "from IPython.display import display\n",
    "\n",
    "def grad(f):\n",
    "    g = autograd.grad\n",
    "    def grad_f(x, y):\n",
    "        return np.array([g(f, 0)(x, y), g(f, 1)(x, y)])\n",
    "    return grad_f\n",
    "\n",
    "def J(f):\n",
    "    j = autograd.jacobian\n",
    "    def J_f(x, y):\n",
    "        return np.array([j(f, 0)(x, y), j(f, 1)(x, y)]).T\n",
    "    return J_f"
   ]
  },
  {
   "cell_type": "code",
   "execution_count": null,
   "metadata": {},
   "outputs": [],
   "source": [
    "def f1(x1, x2):\n",
    "    x1 = np.array(x1)\n",
    "    x2 = np.array(x2)\n",
    "    return 3.0*x1*x1-2.0*x1*x2+3.0*x2*x2\n",
    "\n",
    "\n",
    "def f2(x1, x2):\n",
    "    return (x1 - 1)**2 + (x1 - x2**2)**2\n",
    "\n",
    "\n",
    "def f3(x1, x2):\n",
    "    return np.sin(x1 + x2) - np.cos(x1 * x2) - 1 + 0.001 * (x1 * x1 + x2 * x2)\n",
    "\n",
    "\n",
    "# Fonctions modifiées avec la contrainte première bissectrice.\n",
    "def f1_start(x1, x2):\n",
    "    return np.array([f1(x1, x2)-c, x1-x2])\n",
    "\n",
    "\n",
    "def f2_start(x1, x2):\n",
    "    return np.array([f2(x1, x2)-c, x1-x2])\n",
    "\n",
    "\n",
    "def f3_start(x1, x2):\n",
    "    return np.array([f3(x1, x2)-c, x1-x2])\n",
    "    "
   ]
  },
  {
   "cell_type": "code",
   "execution_count": null,
   "metadata": {},
   "outputs": [],
   "source": [
    "def display_contour(f, x, y, levels, array, title):\n",
    "    X, Y = np.meshgrid(x, y)\n",
    "    Z = f(X, Y)\n",
    "    fig, ax = plt.subplots()\n",
    "    contour_set = plt.contour(\n",
    "        X, Y, Z, colors=\"grey\", linestyles=\"dashed\",\n",
    "        levels=levels\n",
    "    )\n",
    "    ax.clabel(contour_set)\n",
    "    plt.grid(True)\n",
    "    plt.plot(array[0, :], array[1, :], 'x')\n",
    "    plt.xlabel(\"$x_1$\")\n",
    "    plt.ylabel(\"$x_2$\")\n",
    "    plt.gca().set_aspect(\"equal\")\n",
    "    plt.title(title)\n",
    "    plt.show()\n",
    "    "
   ]
  },
  {
   "cell_type": "code",
   "execution_count": null,
   "metadata": {},
   "outputs": [],
   "source": [
    "def Newton(F, x0, y0, eps, N):\n",
    "    J_f = J(F)\n",
    "    v0 = np.array([x0, y0])\n",
    "    for i in range(N):\n",
    "        v0 = v0 - np.dot(np.linalg.inv(J_f(v0[0], v0[1])), F(v0[0], v0[1]))\n",
    "        x, y = v0[0], v0[1]\n",
    "        if np.sqrt((x - x0)**2 + (y - y0)**2) <= eps:\n",
    "            return x, y\n",
    "        x0, y0 = x, y\n",
    "    else:\n",
    "        raise ValueError(f\"no convergence in {N} steps.\")\n",
    "\n",
    "\n",
    "# Fonction Newton qui écrit pas à pas dans un array.\n",
    "def Newton_steps(F, x0, y0, eps, N, array):\n",
    "    J_f = J(F)\n",
    "    v0 = np.array([x0, y0])\n",
    "    for i in range(N):\n",
    "        v0 = v0 - np.dot(np.linalg.inv(J_f(v0[0], v0[1])), F(v0[0], v0[1]))\n",
    "        x, y = v0[0], v0[1]\n",
    "        array = np.column_stack([array, np.array([x, y]).reshape((2, 1))])\n",
    "        if np.sqrt((x - x0)**2 + (y - y0)**2) <= eps:\n",
    "            return x, y, array\n",
    "        x0, y0 = x, y\n",
    "    else:\n",
    "        raise ValueError(f\"no convergence in {N} steps.\")\n"
   ]
  },
  {
   "cell_type": "markdown",
   "metadata": {},
   "source": [
    "#### Tâche 2"
   ]
  },
  {
   "cell_type": "code",
   "execution_count": null,
   "metadata": {},
   "outputs": [],
   "source": [
    "# Déclaration du point de départ de la recherche de courbe de niveau\n",
    "# et des différents paramètres utiles au programme.\n",
    "# J'ai passés la valeur c de la ligne de niveau pour plus\n",
    "# de clarté dans mon code et éviter les arguments récurrents et inutiles.\n",
    "x = 0.8\n",
    "y = 0.8\n",
    "eps = 0.01\n",
    "N = 1000\n",
    "global c\n",
    "c = 0.8\n"
   ]
  },
  {
   "cell_type": "code",
   "execution_count": null,
   "metadata": {},
   "outputs": [],
   "source": [
    "# Analyse de l'écart entre la solution exacte\n",
    "# et l'approximation en fonction du pt de départ\n",
    "a = 0.6\n",
    "data = np.zeros(shape=(2, 1), dtype=float)\n",
    "while a < 1.0:\n",
    "    x, y = a, a\n",
    "    r = np.sqrt(0.2)\n",
    "    res = Newton(f1_start, x, y, eps, N)\n",
    "    ecart = abs(res[0]-r)\n",
    "    stack = np.array([a, ecart]).reshape((2, 1))\n",
    "    data = np.column_stack([data, stack])\n",
    "    a += 0.01\n",
    "data = data[:, 1:]\n",
    "plt.plot(data[0, :], data[1, :], 'x')\n",
    "plt.title(\"Analyse de l'écart entre la solution exacte et\" \n",
    "    \"\\n l'approximation en fonction du pt de départ.\")\n",
    "plt.xlabel('Abscisse du point de départ.')\n",
    "plt.ylabel('Ecart à la solution réelle.')\n",
    "plt.show()\n"
   ]
  },
  {
   "cell_type": "code",
   "execution_count": null,
   "metadata": {},
   "outputs": [],
   "source": [
    "# Figure courbes de niveau et méthode de Newton en partant de (0.8, 0.8)\n",
    "tableau = np.array([0.8, 0.8]).reshape((2, 1))\n",
    "tableau = Newton_steps(f1_start, x, y, eps, N, tableau)[2]\n",
    "display_contour(f1, x=np.linspace(-1.0, 1.0, 100),\n",
    "    y=np.linspace(-1.0, 1.0, 100),\n",
    "    levels=10, array=tableau,\n",
    "    title=\"Méthode de Newton pour les points (0.8,0.8)\"\n",
    "    \" et (-1.0,-1.0)\"+\"\\n\"+\"Fonction quadratique\")\n"
   ]
  },
  {
   "cell_type": "markdown",
   "metadata": {},
   "source": [
    "#### Question 6"
   ]
  },
  {
   "cell_type": "code",
   "execution_count": null,
   "metadata": {},
   "outputs": [],
   "source": []
  },
  {
   "cell_type": "markdown",
   "metadata": {},
   "source": [
    "#### Tâche 3"
   ]
  },
  {
   "cell_type": "code",
   "execution_count": null,
   "metadata": {},
   "outputs": [],
   "source": [
    "def level_curve(f, f_cont, x, y, N=1000, eps=0.01):\n",
    "    tab = np.zeros(shape=(2, N), dtype=float)\n",
    "    grad_f = grad(f)\n",
    "    tab[0, 0] = x\n",
    "    tab[1, 0] = y\n",
    "    g = grad_f(x, y)\n",
    "    g_norm = delta*g/np.linalg.norm(g)\n",
    "    global x0 \n",
    "    global y0\n",
    "    for i in range(1, N):\n",
    "        g = grad_f(x, y)\n",
    "        g_norm = delta*g/np.linalg.norm(g)\n",
    "        J_f = J(f_cont)\n",
    "        x, y = Newton(f_cont, x+g_norm[1], y-g_norm[0], eps, N)\n",
    "        tab[0, i] = x\n",
    "        tab[1, i] = y\n",
    "        # Déclarer les points obetnus en global permet\n",
    "        # de les garder facilement pour la boucle suivante,\n",
    "        # pour calculer la contrainte du cercle sans prise\n",
    "        # de tête avec les arguments qui posent problème\n",
    "        # dans le calcul du jacobien.\n",
    "        x0, y0 = x, y\n",
    "    return tab\n",
    "    "
   ]
  },
  {
   "cell_type": "code",
   "execution_count": null,
   "metadata": {},
   "outputs": [],
   "source": [
    "# J'implémente la contrainte pour que le point reste sur\n",
    "# le cercle de centre le point précédent de rayon delta.\n",
    "# La méthode de Newton cherchera donc un point\n",
    "# exclusivement sur ce cercle.\n",
    "# Garantit la distance entre les points de la courbe de niveau.\n",
    "def contrainte_cercle(x, y):\n",
    "    return (x-x0)**2+(y-y0)**2-delta**2\n",
    "\n",
    "\n",
    "# Fonctions étendues avec la contrainte du cercle.\n",
    "def f1_cont(x, y):\n",
    "    return np.array([f1(x, y)-c, contrainte_cercle(x, y)])\n",
    "\n",
    "\n",
    "def f2_cont(x, y):\n",
    "    return np.array([f2(x, y)-c, contrainte_cercle(x, y)])\n",
    "\n",
    "\n",
    "def f3_cont(x, y):\n",
    "    return np.array([f3(x, y)-c, contrainte_cercle(x, y)])\n"
   ]
  },
  {
   "cell_type": "code",
   "execution_count": null,
   "metadata": {},
   "outputs": [],
   "source": [
    "x, y = 0.8, 0.8\n",
    "x0, y0 = Newton(f1_start, x, y, eps, N)\n",
    "tableau = level_curve(f1, f1_cont, x0, y0)\n",
    "display_contour(f1, x=np.linspace(-1.0, 1.0, 100),\n",
    "    y=np.linspace(-1.0, 1.0, 100),\n",
    "    levels=5, array=tableau,\n",
    "    title=\"Courbe de niveau de f1\")\n"
   ]
  },
  {
   "cell_type": "code",
   "execution_count": null,
   "metadata": {},
   "outputs": [],
   "source": [
    "x, y = 1.5, 1.5\n",
    "c = 2.0\n",
    "x0, y0 = Newton(f2_start, x, y, eps, N)\n",
    "tableau = level_curve(f2, f2_cont, x0, y0)\n",
    "display_contour(f2, x=np.linspace(-1.0, 3.0, 100),\n",
    "    y=np.linspace(-2.0, 2.0, 100),\n",
    "    levels=[2**i for i in range(-3, 8)], array=tableau,\n",
    "    title=\"Courbe de niveau de f2\")\n"
   ]
  },
  {
   "cell_type": "code",
   "execution_count": null,
   "metadata": {},
   "outputs": [],
   "source": [
    "x, y = 0.8, 0.8\n",
    "c = -1.6\n",
    "x0, y0 = Newton(f3_start, x, y, eps, N)\n",
    "tableau = level_curve(f3, f3_cont, x0, y0)\n",
    "display_contour(f3, x=np.linspace(-5.0, 5.0, 100),\n",
    "    y=np.linspace(-5.0, 5.0, 100),\n",
    "    levels=5, array=tableau,\n",
    "    title=\"Courbe de niveau de f3\")\n"
   ]
  },
  {
   "cell_type": "markdown",
   "metadata": {},
   "source": [
    "#### Question 7"
   ]
  },
  {
   "cell_type": "code",
   "execution_count": null,
   "metadata": {},
   "outputs": [],
   "source": []
  },
  {
   "cell_type": "markdown",
   "metadata": {},
   "source": [
    "#### Tâche 4"
   ]
  },
  {
   "cell_type": "code",
   "execution_count": null,
   "metadata": {},
   "outputs": [],
   "source": []
  },
  {
   "cell_type": "markdown",
   "metadata": {},
   "source": [
    "#### Tâche 5"
   ]
  },
  {
   "cell_type": "code",
   "execution_count": null,
   "metadata": {},
   "outputs": [],
   "source": []
  },
  {
   "cell_type": "markdown",
   "metadata": {},
   "source": [
    "#### Question 8"
   ]
  },
  {
   "cell_type": "markdown",
   "metadata": {},
   "source": [
    "On a $\\gamma (t) = \n",
    "   \\left \\{\n",
    "   \\begin{array}{r c l}\n",
    "      a + bt + ct^2 \\\\\n",
    "      d + et + ft^2\n",
    "   \\end{array}\n",
    "   \\right .$\n",
    "et $\\gamma '(t) = \n",
    "   \\left \\{\n",
    "   \\begin{array}{r c l}\n",
    "      b + 2ct \\\\\n",
    "      e + 2ft\n",
    "   \\end{array}\n",
    "   \\right .$.\n",
    "De plus, on introduit les notations \n",
    "$P_1 = \\begin{pmatrix}\n",
    "        x_1 \\\\\n",
    "        y_1\n",
    "        \\end{pmatrix}$,\n",
    "$P_2 = \\begin{pmatrix}\n",
    "        x_2 \\\\\n",
    "        y_2\n",
    "        \\end{pmatrix}$,\n",
    "$u_1 = \\begin{pmatrix}\n",
    "        x'_1 \\\\\n",
    "        y'_1\n",
    "        \\end{pmatrix}$ et \n",
    "$u_2 = \\begin{pmatrix}\n",
    "        x'_2 \\\\\n",
    "        y'_2\n",
    "        \\end{pmatrix}$.\n"
   ]
  },
  {
   "cell_type": "markdown",
   "metadata": {},
   "source": [
    "On a comme conditions aux limites:\n",
    "\n",
    "$\\gamma(0) = P_1 = \\begin{pmatrix} \n",
    "                    a \\\\\n",
    "                    d\n",
    "                    \\end{pmatrix}$\n",
    "                    \n",
    "$\\gamma(1) = P_2 = \\begin{pmatrix} \n",
    "                    a + b + c  \\\\\n",
    "                    d + e + f\n",
    "                    \\end{pmatrix}$\n",
    "                    \n",
    "$\\gamma'(0) = \\lambda u_1 = \\begin{pmatrix} \n",
    "                    b \\\\\n",
    "                    e\n",
    "                    \\end{pmatrix}$\n",
    "\n",
    "$\\gamma'(1) = \\mu u_2 = \\begin{pmatrix} \n",
    "                    b + 2c \\\\\n",
    "                    e + 2f\n",
    "                    \\end{pmatrix}$  avec $\\lambda, \\mu \\in \\mathbb{R}_+$"
   ]
  },
  {
   "cell_type": "markdown",
   "metadata": {},
   "source": [
    "De plus, on remarque que : \n",
    "\n",
    "$\\begin{pmatrix} \n",
    "    b + c  \\\\\n",
    "    e + f\n",
    "    \\end{pmatrix} \n",
    "    = \n",
    "\\begin{pmatrix} \n",
    "    a + b + c  \\\\\n",
    "    d + e + f\n",
    "    \\end{pmatrix}\n",
    "    +\n",
    "\\begin{pmatrix} \n",
    "    a  \\\\\n",
    "    d\n",
    "    \\end{pmatrix}\n",
    "    =\n",
    "P_2 - P_1$\n",
    "\n",
    "et que : \n",
    "\n",
    "$2 \\begin{pmatrix} \n",
    "    b + c  \\\\\n",
    "    e + f\n",
    "    \\end{pmatrix} \n",
    "    = \n",
    "\\begin{pmatrix} \n",
    "    b  \\\\\n",
    "    e\n",
    "    \\end{pmatrix}\n",
    "    -\n",
    "\\begin{pmatrix} \n",
    "    b + 2c  \\\\\n",
    "    e + 2f\n",
    "    \\end{pmatrix}\n",
    "    =\n",
    "\\lambda u_2 + \\mu u_1$\n",
    "\n",
    "En regroupant les deux équations, on obtient que $2(P_2 - P_1) = \\lambda u_1 + \\mu u_2$."
   ]
  },
  {
   "cell_type": "markdown",
   "metadata": {},
   "source": [
    "Il existe une solution à cette dernière équation si et seulement si $u_1$ et $u_2$ forment une famille libre. En effet, on cherche alors la solution d'un système de deux équations à deux inconnus dans un espace vectoriel de dimension deux: cette solution existe et est unique.\n",
    "\n",
    "Cette condition est vérifiée si et seulement si $det(u1, u2) = det(\\begin{pmatrix}\n",
    "                                                                    x'_1 & x'_2 \\\\\n",
    "                                                                    y'_1 & y'_2 \n",
    "                                                                    \\end{pmatrix}) \\ne 0$"
   ]
  },
  {
   "cell_type": "markdown",
   "metadata": {},
   "source": [
    "Alors on a $2(P_2 - P_1) = \\begin{pmatrix}\n",
    "                           u_1 & u_2\n",
    "                           \\end{pmatrix} \\begin{pmatrix}\n",
    "                                         \\lambda \\\\\n",
    "                                         \\mu \n",
    "                                         \\end{pmatrix}$.\n",
    "                                         \n",
    "On peut résoudre ce système et on explicite $\\lambda$ et $\\mu$:\n",
    "\n",
    "$\\begin{pmatrix}\n",
    "     \\lambda \\\\\n",
    "     \\mu \n",
    "     \\end{pmatrix}\n",
    "     =\n",
    "2 \\begin{pmatrix}\n",
    "    u_1 & u_2\n",
    "    \\end{pmatrix}^{-1}\n",
    "\\begin{pmatrix}\n",
    "     P_2 - P_1 \n",
    "     \\end{pmatrix}$"
   ]
  },
  {
   "cell_type": "markdown",
   "metadata": {},
   "source": [
    "On obtient donc une expression pour tous les facteurs à déterminer: \n",
    "\n",
    "$\\begin{pmatrix} \n",
    "    a \\\\\n",
    "    d\n",
    "    \\end{pmatrix}\n",
    "    =\n",
    "P_1$\n",
    "\n",
    "$\\begin{pmatrix} \n",
    "    b \\\\\n",
    "    e\n",
    "    \\end{pmatrix}\n",
    "    =\n",
    "\\lambda u_1$\n",
    "\n",
    "$\\begin{pmatrix} \n",
    "    c \\\\\n",
    "    f\n",
    "    \\end{pmatrix}\n",
    "    =\n",
    "\\frac{1}{2} (\\mu u_2 - \\lambda u_1)$"
   ]
  },
  {
   "cell_type": "markdown",
   "metadata": {},
   "source": [
    "#### Tâche 6"
   ]
  },
  {
   "cell_type": "code",
   "execution_count": null,
   "metadata": {},
   "outputs": [],
   "source": [
    "# Implémentation du chemin gamma(t).\n",
    "def gamma(t, P1, P2, u1, u2):\n",
    "    a = P1[0]\n",
    "    d = P1[1]\n",
    "    matrice = np.array([u1[0], u2[0], u1[1], u2[1]]).reshape((2, 2))\n",
    "    if np.linalg.det(matrice) != 0:\n",
    "        lambmu = 2*np.dot(np.linalg.inv(matrice), (P2-P1))\n",
    "        b = lambmu[0]*u1[0]\n",
    "        e = lambmu[0]*u1[1]\n",
    "        c = (lambmu[1]*u2[0]-lambmu[0]*u1[0])/2\n",
    "        f = (lambmu[1]*u2[1]-lambmu[0]*u1[1])/2\n",
    "        x = a+b*t+c*t**2\n",
    "        y = d+e*t+f*t**2\n",
    "    else:\n",
    "        x = P1[0]+t*(P2[0]-P1[0])\n",
    "        y = P1[1]+t*(P2[1]-P1[1])\n",
    "    return np.array([x, y]).reshape((2, 1))\n"
   ]
  },
  {
   "cell_type": "code",
   "execution_count": null,
   "metadata": {},
   "outputs": [],
   "source": [
    "# Représentation du fonctionnement de gamma\n",
    "P1 = np.array([11.0, 11.0])\n",
    "P2 = np.array([15.0, 24.0])\n",
    "u1 = np.array([0.7, 4.3])\n",
    "u2 = np.array([1.0, 0.6])\n",
    "ax = plt.axes()\n",
    "ax.arrow(P1[0], P1[1], u1[0], u1[1], width=0.05)\n",
    "ax.arrow(P2[0], P2[1], u2[0], u2[1], width=0.05)\n",
    "for t in np.linspace(0.0, 1.0, 100):\n",
    "    gam = gamma(t, P1, P2, u1, u2)\n",
    "    plt.scatter(gam[0], gam[1])\n",
    "plt.title(\"Fonctionnement de gamma\")\n",
    "plt.show()\n"
   ]
  },
  {
   "cell_type": "markdown",
   "metadata": {},
   "source": [
    "#### Tâche 7"
   ]
  },
  {
   "cell_type": "code",
   "execution_count": null,
   "metadata": {},
   "outputs": [],
   "source": [
    "def new_level_curve(f,f_cont, x, y,oversampling, N=1000, eps=0.01):\n",
    "    tab = np.zeros(shape = (2,N), dtype = float)\n",
    "    grad_f = grad(f)\n",
    "    tab[0,0] = x\n",
    "    tab[1,0] = y\n",
    "    g = grad_f(x,y)\n",
    "    g_norm = delta*g/np.linalg.norm(g)\n",
    "    g_norm_ant = g_norm\n",
    "    global x0 \n",
    "    global y0\n",
    "    for i in range(1,N):\n",
    "        g = grad_f(x,y)\n",
    "        g_norm = delta*g/np.linalg.norm(g)\n",
    "        J_f = J(f_cont)\n",
    "        x,y = Newton(f_cont,x+g_norm[1],y-g_norm[0],eps,N)\n",
    "        tab[0,i] = x\n",
    "        tab[1,i] = y\n",
    "        \"\"\"\n",
    "        if i != 1:\n",
    "            if intersection_3([(tab[0,0],tab[1,0]),(tab[0,1],tab[1,1])],[(tab[0,i-1],tab[1,i-1]),(tab[0,i],tab[1,i])]):\n",
    "                tab = tab[:,:i]\n",
    "                return tab\n",
    "        \"\"\"\n",
    "        if oversampling > 1:\n",
    "            overtab = np.zeros(shape = (2,oversampling), dtype = float)\n",
    "            k = 0\n",
    "            for t in np.linspace(0.0,1.0,oversampling):\n",
    "                gam = gamma(t,np.array([tab[0,i-1],tab[1,i-1]]),np.array([tab[0,i],tab[1,i]]),\n",
    "                np.array([g_norm_ant[1],-g_norm_ant[0]]),np.array([g_norm[1],-g_norm[0]]))\n",
    "                overtab[0,k] = gam[0]\n",
    "                overtab[1,k] = gam[1]\n",
    "                k += 1\n",
    "            tab = np.column_stack([tab,overtab])\n",
    "        g_norm_ant = g_norm       \n",
    "        # Déclarer les points obetnus en global permet de les garder facilement pour la boucle suivante,\n",
    "        # pour calculer la contrainte du cercle sans prise de tête avec les arguments qui posent problème\n",
    "        # dans le calcul du jacobien.\n",
    "        x0,y0 = x,y\n",
    "    return tab"
   ]
  },
  {
   "cell_type": "markdown",
   "metadata": {},
   "source": [
    "#### Tâche 8"
   ]
  },
  {
   "cell_type": "code",
   "execution_count": null,
   "metadata": {},
   "outputs": [],
   "source": []
  }
 ],
 "metadata": {
  "kernelspec": {
   "display_name": "Python 3",
   "language": "python",
   "name": "python3"
  },
  "language_info": {
   "codemirror_mode": {
    "name": "ipython",
    "version": 3
   },
   "file_extension": ".py",
   "mimetype": "text/x-python",
   "name": "python",
   "nbconvert_exporter": "python",
   "pygments_lexer": "ipython3",
   "version": "3.8.3"
  }
 },
 "nbformat": 4,
 "nbformat_minor": 4
}