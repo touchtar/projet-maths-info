{
 "cells": [
  {
   "cell_type": "markdown",
   "metadata": {},
   "source": [
    "# COURBES DE NIVEAU"
   ]
  },
  {
   "cell_type": "markdown",
   "metadata": {},
   "source": [
    "##### BEUZELIN Tristan et OUCHTAR Tasnime"
   ]
  },
  {
   "cell_type": "markdown",
   "metadata": {},
   "source": [
    "#### Question 1"
   ]
  },
  {
   "cell_type": "markdown",
   "metadata": {},
   "source": [
    "On introduit l'ensemble $E=\\left\\{x \\in \\mathbb{R} \\; / f(x_1, x_2) = c\\right\\}$. Montrons que E est compact. \n",
    "\n",
    "\n",
    "Commençons par montrer que E est fermé:\n",
    "\n",
    "Soit une suite $(x_n)_{n\\in\\mathbb{N}}$ tel que $x_n \\xrightarrow[n \\rightarrow \\infty]{} c$ et $\\forall n \\; x_n \\in E$. Par définition, $\\forall n \\; f(x_n) = c$. Or f est continue donc $\\underset{n \\rightarrow \\infty}{lim} f(x_n) = c = f(x)$ donc $x \\in E$.\n",
    "\n",
    "\n",
    "Montrons par l'absurde que E est borné:\n",
    "\n",
    "Supposons que E ne soit pas borné. Alors, on sait que pour tout M appartenant à $\\mathbb{R}$, il existe $(x_1, x_2) \\in E$ tel que $||(x_1, x_2)|| \\geq M$ et $f(x_1, x_2) = c$. Or, on sait qu'il existe N appartenant à $\\mathbb{R}$ tel que pour tout $(x_1, x_2)$ vérifiant $||(x_1, x_2)|| \\geq N$, $f(x_1, x_2)>c$ car $\\underset{||(x_1, x_2)|| \\rightarrow + \\infty}{lim} f(x_1, x_2) = + \\infty$. En prenant M égale à N, on arrive à une contradiction."
   ]
  },
  {
   "cell_type": "markdown",
   "metadata": {},
   "source": [
    "#### Question 2"
   ]
  },
  {
   "cell_type": "markdown",
   "metadata": {},
   "source": [
    "On peut interpréter \n",
    "$ p(x_1, x_2) = \\frac{\\partial_2 f(x_0)}{\\|\\nabla f(x_0)\\|} (x_1 - x_{10}) -\n",
    "\\frac{\\partial_1 f(x_0)}{\\|\\nabla f(x_0)\\|} (x_2 - x_{20})\n",
    "$ comme le déterminant de la matrice \n",
    "$\\begin{pmatrix} \n",
    "x_1 - x_{10} & \\frac{\\partial_1 f(x_0)}{\\|\\nabla f(x_0)\\|} \\\\\n",
    "x_2 - x_{20} & \\frac{\\partial_2 f(x_0)}{\\|\\nabla f(x_0)\\|}\n",
    "\\end{pmatrix}$.\n",
    "\n",
    "Ainsi, il s'agit géométriquement de l'aire du parrallélogramme engendré par le déplacement du point et le gradient normalisé de f au point initial.\n"
   ]
  },
  {
   "cell_type": "markdown",
   "metadata": {},
   "source": [
    "#### Question 3"
   ]
  },
  {
   "cell_type": "markdown",
   "metadata": {},
   "source": [
    "On introduit la fonction $g$ qui va de $\\mathbb{R}^2 \\times \\mathbb{R}$ dans $\\mathbb{R}^2$ et qui à $((x_1,x_2),t)$ associe $(f(x_1,x_2)-c,p(x_1,x_2)-t)$. \n",
    "On définit $W$ un ouvert de $\\mathbb{R}^2 \\times \\mathbb{R}$ tel que $(x_0,0) \\in W$. On a bien $g((x_{10}, x_{20}),0) = (0,0)$. \n",
    "\n",
    "La fonction $g$ est continûment différentiable sur $W$ car les fonctions $f$, $p$, somme et soustraction sont continûment différentiables. \n",
    "\n",
    "Vérifions que $\\partial_x g(x,t)$ est inversible. Dans un premier temps, calculons la matrice jacobienne de g : \n",
    "$J_g = \\begin{pmatrix}\n",
    "        \\partial_1f & \\partial_2f & 0\\\\\n",
    "        \\frac{\\partial_2 f}{\\|\\nabla f\\|} & -\\frac{\\partial_1 f}{\\|\\nabla f\\|} & -1 \n",
    "        \\end{pmatrix}$.\n",
    "On a donc $\\partial_xg = \\begin{pmatrix}\n",
    "        \\partial_1f & \\partial_2f\\\\\n",
    "        \\frac{\\partial_2 f}{\\|\\nabla f\\|} & -\\frac{\\partial_1 f}{\\|\\nabla f\\|}\n",
    "        \\end{pmatrix}$. \n",
    "On a alors $det(\\partial_x g) = \\frac{{\\partial_1 f}^2 + {\\partial_2 f}^2}{\\|\\nabla f\\|}$ or en travaillant au voisinage de $x_0$, on sait que $\\nabla f$ est non nul donc sa norme est non nulle ce qui donne finalement que $det(\\partial_xg(x_0)) \\ne 0$."
   ]
  },
  {
   "cell_type": "markdown",
   "metadata": {},
   "source": [
    "On peut à présent appliquer le théorème des fonctions implicites: il existe un voisinage ouvert de $x_0$ et un voisinage $]-\\epsilon \\; ; \\epsilon[$ de 0 tels qu'il existe une unique fonction $\\gamma :\\left]-\\varepsilon,\\varepsilon \\right[ \\to \\mathbb{R}^2$ continûment différentiable telle que $g(x,t) = 0 \\Leftrightarrow f(x_1,x_2) = c$ et $t = p(x_1, x_2) \\Leftrightarrow (x_1, x_2) = \\gamma(t)$ avec $t = p(x_1, x_2)$ "
   ]
  },
  {
   "cell_type": "markdown",
   "metadata": {},
   "source": [
    "#### Question 4 "
   ]
  },
  {
   "cell_type": "markdown",
   "metadata": {},
   "source": [
    "Commencons par montrer que le vecteur $\\gamma'(t)$ est non nul. A l'aide du deuxième volet du théorème des fonctions implicites, on a $d\\gamma(t) = -[\\partial_x g (\\gamma(t),t)]^{-1} \\bullet \\partial_t g(\\gamma(t),t)$\n",
    "\n",
    "$d\\gamma(t) = -\\frac{1}{\\|\\nabla f\\|} \\begin{pmatrix}\n",
    "-\\frac{\\partial_1 f(\\gamma(t), t)}{\\|\\nabla f\\|} & -\\partial_2 f(\\gamma(t), t) \\\\\n",
    "-\\frac{\\partial_2 f(\\gamma(t), t)}{\\|\\nabla f\\|} & \\partial_1 f(\\gamma(t), t)\n",
    "\\end{pmatrix} \n",
    "\\bullet\n",
    "\\begin{pmatrix}\n",
    "0 \\\\\n",
    "-1\n",
    "\\end{pmatrix}\n",
    "=\n",
    "-\\frac{1}{\\|\\nabla f\\|} \\begin{pmatrix}\n",
    "\\partial_2 f(\\gamma(t), t) \\\\\n",
    "-\\partial_1 f(\\gamma(t), t)\n",
    "\\end{pmatrix}$"
   ]
  },
  {
   "cell_type": "markdown",
   "metadata": {},
   "source": [
    "Comme on sait que $\\gamma$ est différentiable en t, $\\gamma$ est dérivable en t et $\\forall h \\in \\mathbb(R)$ $d\\gamma(t) \\bullet h = \\gamma'(t) h$.\n",
    "\n",
    "Or $d\\gamma(t) \\ne 0$ car $\\nabla f \\ne 0$ donc $\\gamma'(t) \\ne 0$."
   ]
  },
  {
   "cell_type": "markdown",
   "metadata": {},
   "source": [
    "De plus, $\\nabla f \\bullet d\\gamma(t) = -\\frac{1}{\\|\\nabla f\\|}\n",
    "\\begin{pmatrix}\n",
    "\\partial_1 f \\\\\n",
    "\\partial_2 f\n",
    "\\end{pmatrix}\n",
    "\\bullet\n",
    "\\begin{pmatrix}\n",
    "\\partial_2 f \\\\\n",
    "-\\partial_1 f\n",
    "\\end{pmatrix}\n",
    "=\n",
    "-\\frac{1}{\\|\\nabla f\\|} (\\partial_1 f \\; \\partial_2 f - \\partial_2 f \\; \\partial_1 f) = 0$\n",
    "donc on a bien $\\gamma'(t)$ orthogonal à $\\nabla f(\\gamma(t))$."
   ]
  },
  {
   "cell_type": "markdown",
   "metadata": {},
   "source": [
    "#### Question 5"
   ]
  },
  {
   "cell_type": "markdown",
   "metadata": {},
   "source": [
    "La fonction Newton demande une précision uniquement graphique: il faut que l'erreur soit inférieur à la taille d'un pixel sur l'échelle verticale. Ainsi, en choisissant $\\epsilon = 0,02$, on obtient ce résultat."
   ]
  },
  {
   "cell_type": "markdown",
   "metadata": {},
   "source": [
    "#### Tâche 1"
   ]
  },
  {
   "cell_type": "code",
   "execution_count": null,
   "metadata": {},
   "outputs": [],
   "source": []
  },
  {
   "cell_type": "markdown",
   "metadata": {},
   "source": [
    "#### Tâche 2"
   ]
  },
  {
   "cell_type": "code",
   "execution_count": null,
   "metadata": {},
   "outputs": [],
   "source": []
  },
  {
   "cell_type": "markdown",
   "metadata": {},
   "source": [
    "#### Question 6"
   ]
  },
  {
   "cell_type": "code",
   "execution_count": null,
   "metadata": {},
   "outputs": [],
   "source": []
  },
  {
   "cell_type": "markdown",
   "metadata": {},
   "source": [
    "#### Tâche 3"
   ]
  },
  {
   "cell_type": "code",
   "execution_count": null,
   "metadata": {},
   "outputs": [],
   "source": []
  },
  {
   "cell_type": "markdown",
   "metadata": {},
   "source": [
    "#### Question 7"
   ]
  },
  {
   "cell_type": "code",
   "execution_count": null,
   "metadata": {},
   "outputs": [],
   "source": []
  },
  {
   "cell_type": "markdown",
   "metadata": {},
   "source": [
    "#### Tâche 4"
   ]
  },
  {
   "cell_type": "code",
   "execution_count": null,
   "metadata": {},
   "outputs": [],
   "source": []
  },
  {
   "cell_type": "markdown",
   "metadata": {},
   "source": [
    "#### Tâche 5"
   ]
  },
  {
   "cell_type": "code",
   "execution_count": null,
   "metadata": {},
   "outputs": [],
   "source": []
  },
  {
   "cell_type": "markdown",
   "metadata": {},
   "source": [
    "#### Question 8"
   ]
  },
  {
   "cell_type": "markdown",
   "metadata": {},
   "source": [
    "On a $\\gamma (t) = \n",
    "   \\left \\{\n",
    "   \\begin{array}{r c l}\n",
    "      a + bt + ct^2 \\\\\n",
    "      d + et + ft^2\n",
    "   \\end{array}\n",
    "   \\right .$\n",
    "et $\\gamma '(t) = \n",
    "   \\left \\{\n",
    "   \\begin{array}{r c l}\n",
    "      b + 2ct \\\\\n",
    "      e + 2ft\n",
    "   \\end{array}\n",
    "   \\right .$.\n",
    "De plus, on introduit les notations \n",
    "$P_1 = \\begin{pmatrix}\n",
    "        x_1 \\\\\n",
    "        y_1\n",
    "        \\end{pmatrix}$,\n",
    "$P_2 = \\begin{pmatrix}\n",
    "        x_2 \\\\\n",
    "        y_2\n",
    "        \\end{pmatrix}$,\n",
    "$u_1 = \\begin{pmatrix}\n",
    "        x'_1 \\\\\n",
    "        y'_1\n",
    "        \\end{pmatrix}$ et \n",
    "$u_2 = \\begin{pmatrix}\n",
    "        x'_2 \\\\\n",
    "        y'_2\n",
    "        \\end{pmatrix}$.\n"
   ]
  },
  {
   "cell_type": "markdown",
   "metadata": {},
   "source": [
    "On a comme conditions aux limites:\n",
    "\n",
    "$\\gamma(0) = P_1 = \\begin{pmatrix} \n",
    "                    a \\\\\n",
    "                    d\n",
    "                    \\end{pmatrix}$\n",
    "                    \n",
    "$\\gamma(1) = P_2 = \\begin{pmatrix} \n",
    "                    a + b + c  \\\\\n",
    "                    d + e + f\n",
    "                    \\end{pmatrix}$\n",
    "                    \n",
    "$\\gamma'(0) = \\lambda u_1 = \\begin{pmatrix} \n",
    "                    b \\\\\n",
    "                    e\n",
    "                    \\end{pmatrix}$\n",
    "\n",
    "$\\gamma'(1) = \\mu u_2 = \\begin{pmatrix} \n",
    "                    b + 2c \\\\\n",
    "                    e + 2f\n",
    "                    \\end{pmatrix}$  avec $\\lambda, \\mu \\in \\mathbb{R}_+$"
   ]
  },
  {
   "cell_type": "markdown",
   "metadata": {},
   "source": [
    "De plus, on remarque que : \n",
    "\n",
    "$\\begin{pmatrix} \n",
    "    b + c  \\\\\n",
    "    e + f\n",
    "    \\end{pmatrix} \n",
    "    = \n",
    "\\begin{pmatrix} \n",
    "    a + b + c  \\\\\n",
    "    d + e + f\n",
    "    \\end{pmatrix}\n",
    "    +\n",
    "\\begin{pmatrix} \n",
    "    a  \\\\\n",
    "    d\n",
    "    \\end{pmatrix}\n",
    "    =\n",
    "P_2 - P_1$\n",
    "\n",
    "et que : \n",
    "\n",
    "$2 \\begin{pmatrix} \n",
    "    b + c  \\\\\n",
    "    e + f\n",
    "    \\end{pmatrix} \n",
    "    = \n",
    "\\begin{pmatrix} \n",
    "    b  \\\\\n",
    "    e\n",
    "    \\end{pmatrix}\n",
    "    -\n",
    "\\begin{pmatrix} \n",
    "    b + 2c  \\\\\n",
    "    e + 2f\n",
    "    \\end{pmatrix}\n",
    "    =\n",
    "\\lambda u_2 + \\mu u_1$\n",
    "\n",
    "En regroupant les deux équations, on obtient que $2(P_2 - P_1) = \\lambda u_1 + \\mu u_2$."
   ]
  },
  {
   "cell_type": "markdown",
   "metadata": {},
   "source": [
    "Il existe une solution à cette dernière équation si et seulement si $u_1$ et $u_2$ forment une famille libre. En effet, on cherche alors la solution d'un système de deux équations à deux inconnus dans un espace vectoriel de dimension deux: cette solution existe et est unique.\n",
    "\n",
    "Cette condition est vérifiée si et seulement si $det(u1, u2) = det(\\begin{pmatrix}\n",
    "                                                                    x'_1 & x'_2 \\\\\n",
    "                                                                    y'_1 & y'_2 \n",
    "                                                                    \\end{pmatrix}) \\ne 0$"
   ]
  },
  {
   "cell_type": "markdown",
   "metadata": {},
   "source": [
    "Alors on a $2(P_2 - P_1) = \\begin{pmatrix}\n",
    "                           u_1 & u_2\n",
    "                           \\end{pmatrix} \\begin{pmatrix}\n",
    "                                         \\lambda \\\\\n",
    "                                         \\mu \n",
    "                                         \\end{pmatrix}$.\n",
    "                                         \n",
    "On peut résoudre ce système et on explicite $\\lambda$ et $\\mu$:\n",
    "\n",
    "$\\begin{pmatrix}\n",
    "     \\lambda \\\\\n",
    "     \\mu \n",
    "     \\end{pmatrix}\n",
    "     =\n",
    "2 \\begin{pmatrix}\n",
    "    u_1 & u_2\n",
    "    \\end{pmatrix}^{-1}\n",
    "\\begin{pmatrix}\n",
    "     P_2 - P_1 \n",
    "     \\end{pmatrix}$"
   ]
  },
  {
   "cell_type": "markdown",
   "metadata": {},
   "source": [
    "On obtient donc une expression pour tous les facteurs à déterminer: \n",
    "\n",
    "$\\begin{pmatrix} \n",
    "    a \\\\\n",
    "    d\n",
    "    \\end{pmatrix}\n",
    "    =\n",
    "P_1$\n",
    "\n",
    "$\\begin{pmatrix} \n",
    "    b \\\\\n",
    "    e\n",
    "    \\end{pmatrix}\n",
    "    =\n",
    "\\lambda u_1$\n",
    "\n",
    "$\\begin{pmatrix} \n",
    "    c \\\\\n",
    "    f\n",
    "    \\end{pmatrix}\n",
    "    =\n",
    "\\frac{1}{2} (\\mu u_2 - \\lambda u_1)$"
   ]
  },
  {
   "cell_type": "markdown",
   "metadata": {},
   "source": [
    "#### Tâche 6"
   ]
  },
  {
   "cell_type": "code",
   "execution_count": null,
   "metadata": {},
   "outputs": [],
   "source": []
  },
  {
   "cell_type": "markdown",
   "metadata": {},
   "source": [
    "#### Tâche 7"
   ]
  },
  {
   "cell_type": "code",
   "execution_count": null,
   "metadata": {},
   "outputs": [],
   "source": []
  },
  {
   "cell_type": "markdown",
   "metadata": {},
   "source": [
    "#### Tâche 8"
   ]
  },
  {
   "cell_type": "code",
   "execution_count": null,
   "metadata": {},
   "outputs": [],
   "source": []
  }
 ],
 "metadata": {
  "kernelspec": {
   "display_name": "Python 3",
   "language": "python",
   "name": "python3"
  },
  "language_info": {
   "codemirror_mode": {
    "name": "ipython",
    "version": 3
   },
   "file_extension": ".py",
   "mimetype": "text/x-python",
   "name": "python",
   "nbconvert_exporter": "python",
   "pygments_lexer": "ipython3",
   "version": "3.8.3"
  }
 },
 "nbformat": 4,
 "nbformat_minor": 4
}
